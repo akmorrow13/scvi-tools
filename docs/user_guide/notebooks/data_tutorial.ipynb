{
 "cells": [
  {
   "cell_type": "markdown",
   "id": "critical-vitamin",
   "metadata": {},
   "source": [
    "# Data handling in scvi-tools\n",
    "\n",
    "In this tutorial we will cover how data is handled in scvi-tools. \n",
    "\n",
    "Sections:\n",
    "\n",
    "1. Data Registration via `setup_anndata()` and `register_tensor_from_anndata()`\n",
    "2. Introduction to the `scvi_setup_dict` \n",
    "3. Explanation of `data_registry` and corresponding fields\n",
    "3. Data loading with `AnnDataLoader()`"
   ]
  },
  {
   "cell_type": "code",
   "execution_count": 14,
   "id": "formed-cleaners",
   "metadata": {},
   "outputs": [],
   "source": [
    "import sys\n",
    "\n",
    "#if branch is stable, will install via pypi, else will install from source\n",
    "branch = \"stable\"\n",
    "IN_COLAB = \"google.colab\" in sys.modules\n",
    "\n",
    "if IN_COLAB and branch == \"stable\":\n",
    "    !pip install --quiet scvi-tools[tutorials]\n",
    "elif IN_COLAB and branch != \"stable\":\n",
    "    !pip install --quiet --upgrade jsonschema\n",
    "    !pip install --quiet git+https://github.com/yoseflab/scvi-tools@$branch#egg=scvi-tools[tutorials]"
   ]
  },
  {
   "cell_type": "code",
   "execution_count": 15,
   "id": "confidential-profession",
   "metadata": {},
   "outputs": [],
   "source": [
    "import scvi\n",
    "from scvi import _CONSTANTS\n",
    "import numpy as np"
   ]
  },
  {
   "cell_type": "markdown",
   "id": "fewer-growth",
   "metadata": {},
   "source": [
    "## Data Registration\n",
    "\n",
    "Scvi-tools knows what data to load into models via a data registration process handled by `scvi.data.setup_anndata()` and `scvi.data.register_tensor_from_anndata()`. \n",
    "\n",
    "The setup process saves the `scvi_setup_dict` to `adata.uns['_scvi']`. We will go over the `scvi_setup_dict` in subsequent sections.\n",
    "\n",
    "`scvi.data.setup_anndata()` is used to setup common data fields for our models. \n",
    "\n",
    "\n",
    "Explanation of parameters for `scvi.data.setup_anndata()`:\n",
    "\n",
    "- `adata` is the input anndata\n",
    "- `batch_key` is the key in `adata.obs` for batch information. If this is None, will assume that all the data is the same batch.\n",
    "- `labels_key` is the key in `adata.obs` for label information. If this is None, will assume that all the data has the same label.\n",
    "- `layer` is the key in `adata.layers` to use for the input data matrix. By default, this is None and the input data matrix will be pulled from `adata.X`. \n",
    "- `protein_expression_obsm_key` is the key in `adata.obsm` for protein expression data.\n",
    "- `protein_names_uns_key` is the key in `adata.uns` for the protein names.\n",
    "- `categorical_covariate_keys` is a list of keys in `adata.obs` for categorical covariates.\n",
    "- `continuous_covariate_key` is a list of keys in `adata.obs` for continuous covariates. \n",
    "\n",
    "\n",
    "`scvi.data.register_tensor_from_anndata()` is a function for the generic registration of tensors in the AnnData object. It is used to setup data fields not included in `scvi.data.setup_anndata()`.\n",
    "\n",
    "Explanation of parameters for `scvi.data.register_tensor_from_anndata()`:\n",
    "\n",
    "- `adata` is the input anndata\n",
    "- `registry_key` is the key to access the data in the dataloader output (More on this in the DataLoader section of this tutorial)\n",
    "- `adata_attr_name` is the AnnData attribute with the data. Can be `['obs', 'obsm', 'var', 'varm', 'uns']`\n",
    "- `adata_key_name` is the key in `adata.adata_attr_name` to access the data\n",
    "- `is_categorical`, if True and `adata_attr_name` is `obs`, will integer encode the data and saved in `adata.obs` with the key passed to `adata_alternate_key_name`\n",
    "- `adata_alternate_key_name` is the key in `adata.obs` to save the data to if `is_categorical` is True and `adata_attr_name` is `obs`. If None, the saved key will be `adata_key_name + '_scvi'`\n",
    "\n",
    "Under the hood:\n",
    "\n",
    "- For all categorical data (batch, labels, categorical covariates), scvi will automatically compute a mapping from values to integers. Eg. `['a','b','c','a']` will become `[0,1,2,0]`.\n",
    "- For data fields registered with `scvi.data.setup_anndata()`, scvi will copy the data to a seperate field in the anndata. \n",
    "    - `batch_key` is copied to `scvi.obs['_scvi_batch']` with its integer encoding\n",
    "    - `labels_key` is copied to `scvi.obs['_scvi_labels']` with its integer encoding\n",
    "    - keys in `categorical_covariate_keys` are concatenated and saved as a pandas DataFrame and stored in `adata.obsm['_scvi_extra_categoricals']` with its integer encoding.\n",
    "    - keys in `continuous_covariate_keys` are concatenated and saved as a pandas DataFrame and stored in `adata.obsm['_scvi_extra_continuous']`\n",
    "    - batch specific log library size mean is computed and stored in `adata.obs['_scvi_local_l_mean']`\n",
    "    - batch specific log library size variance is computed and stored in `adata.obs['_scvi_local_l_var']`\n",
    "- For data fields registered with `scvi.data.register_tensor_from_anndata()`:\n",
    "    - If `is_categorical` is True and `adata_attr_name` is `obs`, data will be encoded as integers and saved to `adata.obs` with the key in `adata_alternate_key_name`.\n",
    "    - If `is_categorical` is False, data will be loaded as is.\n",
    "\n",
    "In the following code, we first format an example AnnData Object to setup for scvi-tools, then call `scvi.data.setup_anndata()` to register all the tensors we want to load to the model during training. \n",
    "For our example AnnData Object, we build off the `synthetic_iid()` dataset, copy X to a layer, and add continuous and categorical covariates to the AnnData."
   ]
  },
  {
   "cell_type": "code",
   "execution_count": 16,
   "id": "south-enclosure",
   "metadata": {},
   "outputs": [
    {
     "name": "stdout",
     "output_type": "stream",
     "text": [
      "AnnData object with n_obs × n_vars = 400 × 100\n",
      "    obs: 'batch', 'labels', 'my_categorical_covariate', 'my_continuous_covariate'\n",
      "    uns: 'protein_names'\n",
      "    obsm: 'protein_expression'\n",
      "    layers: 'raw_counts'\n"
     ]
    }
   ],
   "source": [
    "adata = scvi.data.synthetic_iid(run_setup_anndata=False)\n",
    "adata.layers['raw_counts'] = adata.X.copy()\n",
    "adata.obs['my_categorical_covariate'] = ['A'] * 200 + ['B'] * 200\n",
    "adata.obs['my_continuous_covariate'] = np.random.randint(0,100,400)\n",
    "print(adata)"
   ]
  },
  {
   "cell_type": "code",
   "execution_count": 17,
   "id": "through-postcard",
   "metadata": {},
   "outputs": [
    {
     "name": "stdout",
     "output_type": "stream",
     "text": [
      "\u001b[34mINFO    \u001b[0m Using batches from adata.obs\u001b[1m[\u001b[0m\u001b[32m\"batch\"\u001b[0m\u001b[1m]\u001b[0m                                               \n",
      "\u001b[34mINFO    \u001b[0m Using labels from adata.obs\u001b[1m[\u001b[0m\u001b[32m\"labels\"\u001b[0m\u001b[1m]\u001b[0m                                               \n",
      "\u001b[34mINFO    \u001b[0m Using data from adata.layers\u001b[1m[\u001b[0m\u001b[32m\"raw_counts\"\u001b[0m\u001b[1m]\u001b[0m                                          \n",
      "\u001b[34mINFO    \u001b[0m Computing library size prior per batch                                              \n",
      "\u001b[34mINFO    \u001b[0m Using protein expression from adata.obsm\u001b[1m[\u001b[0m\u001b[32m'protein_expression'\u001b[0m\u001b[1m]\u001b[0m                      \n",
      "\u001b[34mINFO    \u001b[0m Using protein names from adata.uns\u001b[1m[\u001b[0m\u001b[32m'protein_names'\u001b[0m\u001b[1m]\u001b[0m                                 \n",
      "\u001b[34mINFO    \u001b[0m Successfully registered anndata object containing \u001b[1;34m400\u001b[0m cells, \u001b[1;34m100\u001b[0m vars, \u001b[1;34m2\u001b[0m batches, \u001b[1;34m3\u001b[0m \n",
      "         labels, and \u001b[1;34m100\u001b[0m proteins. Also registered \u001b[1;34m1\u001b[0m extra categorical covariates and \u001b[1;34m1\u001b[0m extra\n",
      "         continuous covariates.                                                              \n",
      "\u001b[34mINFO    \u001b[0m Please do not further modify adata until model is trained.                          \n"
     ]
    },
    {
     "name": "stderr",
     "output_type": "stream",
     "text": [
      "/home/galen/.pyenv/versions/scvi-dev/lib/python3.8/site-packages/pandas/core/arrays/categorical.py:2487: FutureWarning: The `inplace` parameter in pandas.Categorical.remove_unused_categories is deprecated and will be removed in a future version.\n",
      "  res = method(*args, **kwargs)\n",
      "/home/galen/.pyenv/versions/scvi-dev/lib/python3.8/site-packages/pandas/core/arrays/categorical.py:2487: FutureWarning: The `inplace` parameter in pandas.Categorical.remove_unused_categories is deprecated and will be removed in a future version.\n",
      "  res = method(*args, **kwargs)\n"
     ]
    }
   ],
   "source": [
    "scvi.data.setup_anndata(\n",
    "    adata,\n",
    "    batch_key=\"batch\",\n",
    "    labels_key=\"labels\",\n",
    "    layer=\"raw_counts\",\n",
    "    protein_expression_obsm_key=\"protein_expression\",\n",
    "    protein_names_uns_key=\"protein_names\",\n",
    "    categorical_covariate_keys=[\"my_categorical_covariate\"],\n",
    "    continuous_covariate_keys=[\"my_continuous_covariate\"],\n",
    ")"
   ]
  },
  {
   "cell_type": "markdown",
   "id": "inside-consideration",
   "metadata": {},
   "source": [
    "We can view what was registered via the `scvi.data.view_anndata_setup()` command."
   ]
  },
  {
   "cell_type": "code",
   "execution_count": 18,
   "id": "usual-playing",
   "metadata": {},
   "outputs": [
    {
     "data": {
      "text/html": [
       "<pre style=\"white-space:pre;overflow-x:auto;line-height:normal;font-family:Menlo,'DejaVu Sans Mono',consolas,'Courier New',monospace\">Anndata setup with scvi-tools version <span style=\"color: #000080; font-weight: bold\">0.0</span>.<span style=\"color: #000080; font-weight: bold\">0</span>.\n",
       "</pre>\n"
      ],
      "text/plain": [
       "<rich.jupyter.JupyterRenderable at 0x7f9f2137cfa0>"
      ]
     },
     "metadata": {},
     "output_type": "display_data"
    },
    {
     "data": {
      "text/html": [
       "<pre style=\"white-space:pre;overflow-x:auto;line-height:normal;font-family:Menlo,'DejaVu Sans Mono',consolas,'Courier New',monospace\"><span style=\"font-style: italic\">              Data Summary              </span>\n",
       "┏━━━━━━━━━━━━━━━━━━━━━━━━━━━━━━┳━━━━━━━┓\n",
       "┃<span style=\"font-weight: bold\">             Data             </span>┃<span style=\"font-weight: bold\"> Count </span>┃\n",
       "┡━━━━━━━━━━━━━━━━━━━━━━━━━━━━━━╇━━━━━━━┩\n",
       "│<span style=\"color: #0087ff\">            Cells             </span>│<span style=\"color: #af00d7\">  400  </span>│\n",
       "│<span style=\"color: #0087ff\">             Vars             </span>│<span style=\"color: #af00d7\">  100  </span>│\n",
       "│<span style=\"color: #0087ff\">            Labels            </span>│<span style=\"color: #af00d7\">   3   </span>│\n",
       "│<span style=\"color: #0087ff\">           Batches            </span>│<span style=\"color: #af00d7\">   2   </span>│\n",
       "│<span style=\"color: #0087ff\">           Proteins           </span>│<span style=\"color: #af00d7\">  100  </span>│\n",
       "│<span style=\"color: #0087ff\"> Extra Categorical Covariates </span>│<span style=\"color: #af00d7\">   1   </span>│\n",
       "│<span style=\"color: #0087ff\"> Extra Continuous Covariates  </span>│<span style=\"color: #af00d7\">   1   </span>│\n",
       "└──────────────────────────────┴───────┘\n",
       "</pre>\n"
      ],
      "text/plain": [
       "<rich.jupyter.JupyterRenderable at 0x7f9f213c2460>"
      ]
     },
     "metadata": {},
     "output_type": "display_data"
    },
    {
     "data": {
      "text/html": [
       "<pre style=\"white-space:pre;overflow-x:auto;line-height:normal;font-family:Menlo,'DejaVu Sans Mono',consolas,'Courier New',monospace\"><span style=\"font-style: italic\">                      SCVI Data Registry                       </span>\n",
       "┏━━━━━━━━━━━━━━━━━━━━┳━━━━━━━━━━━━━━━━━━━━━━━━━━━━━━━━━━━━━━━━┓\n",
       "┃<span style=\"font-weight: bold\">        Data        </span>┃<span style=\"font-weight: bold\">          scvi-tools Location           </span>┃\n",
       "┡━━━━━━━━━━━━━━━━━━━━╇━━━━━━━━━━━━━━━━━━━━━━━━━━━━━━━━━━━━━━━━┩\n",
       "│<span style=\"color: #0087ff\">         X          </span>│<span style=\"color: #af00d7\">       adata.layers['raw_counts']       </span>│\n",
       "│<span style=\"color: #0087ff\">   batch_indices    </span>│<span style=\"color: #af00d7\">        adata.obs['_scvi_batch']        </span>│\n",
       "│<span style=\"color: #0087ff\">    local_l_mean    </span>│<span style=\"color: #af00d7\">    adata.obs['_scvi_local_l_mean']     </span>│\n",
       "│<span style=\"color: #0087ff\">    local_l_var     </span>│<span style=\"color: #af00d7\">     adata.obs['_scvi_local_l_var']     </span>│\n",
       "│<span style=\"color: #0087ff\">       labels       </span>│<span style=\"color: #af00d7\">       adata.obs['_scvi_labels']        </span>│\n",
       "│<span style=\"color: #0087ff\"> protein_expression </span>│<span style=\"color: #af00d7\">    adata.obsm['protein_expression']    </span>│\n",
       "│<span style=\"color: #0087ff\">      cat_covs      </span>│<span style=\"color: #af00d7\"> adata.obsm['_scvi_extra_categoricals'] </span>│\n",
       "│<span style=\"color: #0087ff\">     cont_covs      </span>│<span style=\"color: #af00d7\">  adata.obsm['_scvi_extra_continuous']  </span>│\n",
       "└────────────────────┴────────────────────────────────────────┘\n",
       "</pre>\n"
      ],
      "text/plain": [
       "<rich.jupyter.JupyterRenderable at 0x7f9f213c2880>"
      ]
     },
     "metadata": {},
     "output_type": "display_data"
    },
    {
     "data": {
      "text/html": [
       "<pre style=\"white-space:pre;overflow-x:auto;line-height:normal;font-family:Menlo,'DejaVu Sans Mono',consolas,'Courier New',monospace\"><span style=\"font-style: italic\">                     Label Categories                     </span>\n",
       "┏━━━━━━━━━━━━━━━━━━━━━┳━━━━━━━━━━━━┳━━━━━━━━━━━━━━━━━━━━━┓\n",
       "┃<span style=\"font-weight: bold\">   Source Location   </span>┃<span style=\"font-weight: bold\"> Categories </span>┃<span style=\"font-weight: bold\"> scvi-tools Encoding </span>┃\n",
       "┡━━━━━━━━━━━━━━━━━━━━━╇━━━━━━━━━━━━╇━━━━━━━━━━━━━━━━━━━━━┩\n",
       "│<span style=\"color: #0087ff\"> adata.obs['labels'] </span>│<span style=\"color: #008000\">  label_0   </span>│<span style=\"color: #af00d7\">          0          </span>│\n",
       "│<span style=\"color: #0087ff\">                     </span>│<span style=\"color: #008000\">  label_1   </span>│<span style=\"color: #af00d7\">          1          </span>│\n",
       "│<span style=\"color: #0087ff\">                     </span>│<span style=\"color: #008000\">  label_2   </span>│<span style=\"color: #af00d7\">          2          </span>│\n",
       "└─────────────────────┴────────────┴─────────────────────┘\n",
       "</pre>\n"
      ],
      "text/plain": [
       "<rich.jupyter.JupyterRenderable at 0x7fa0cc17a7f0>"
      ]
     },
     "metadata": {},
     "output_type": "display_data"
    },
    {
     "data": {
      "text/html": [
       "<pre style=\"white-space:pre;overflow-x:auto;line-height:normal;font-family:Menlo,'DejaVu Sans Mono',consolas,'Courier New',monospace\"><span style=\"font-style: italic\">                    Batch Categories                     </span>\n",
       "┏━━━━━━━━━━━━━━━━━━━━┳━━━━━━━━━━━━┳━━━━━━━━━━━━━━━━━━━━━┓\n",
       "┃<span style=\"font-weight: bold\">  Source Location   </span>┃<span style=\"font-weight: bold\"> Categories </span>┃<span style=\"font-weight: bold\"> scvi-tools Encoding </span>┃\n",
       "┡━━━━━━━━━━━━━━━━━━━━╇━━━━━━━━━━━━╇━━━━━━━━━━━━━━━━━━━━━┩\n",
       "│<span style=\"color: #0087ff\"> adata.obs['batch'] </span>│<span style=\"color: #008000\">  batch_0   </span>│<span style=\"color: #af00d7\">          0          </span>│\n",
       "│<span style=\"color: #0087ff\">                    </span>│<span style=\"color: #008000\">  batch_1   </span>│<span style=\"color: #af00d7\">          1          </span>│\n",
       "└────────────────────┴────────────┴─────────────────────┘\n",
       "</pre>\n"
      ],
      "text/plain": [
       "<rich.jupyter.JupyterRenderable at 0x7f9f2137ccd0>"
      ]
     },
     "metadata": {},
     "output_type": "display_data"
    },
    {
     "data": {
      "text/html": [
       "<pre style=\"white-space:pre;overflow-x:auto;line-height:normal;font-family:Menlo,'DejaVu Sans Mono',consolas,'Courier New',monospace\"><span style=\"font-style: italic\">                        Extra Categorical Variables                         </span>\n",
       "┏━━━━━━━━━━━━━━━━━━━━━━━━━━━━━━━━━━━━━━━┳━━━━━━━━━━━━┳━━━━━━━━━━━━━━━━━━━━━┓\n",
       "┃<span style=\"font-weight: bold\">            Source Location            </span>┃<span style=\"font-weight: bold\"> Categories </span>┃<span style=\"font-weight: bold\"> scvi-tools Encoding </span>┃\n",
       "┡━━━━━━━━━━━━━━━━━━━━━━━━━━━━━━━━━━━━━━━╇━━━━━━━━━━━━╇━━━━━━━━━━━━━━━━━━━━━┩\n",
       "│<span style=\"color: #0087ff\"> adata.obs['my_categorical_covariate'] </span>│<span style=\"color: #008000\">     A      </span>│<span style=\"color: #af00d7\">          0          </span>│\n",
       "│<span style=\"color: #0087ff\">                                       </span>│<span style=\"color: #008000\">     B      </span>│<span style=\"color: #af00d7\">          1          </span>│\n",
       "│<span style=\"color: #0087ff\">                                       </span>│<span style=\"color: #008000\">            </span>│<span style=\"color: #af00d7\">                     </span>│\n",
       "└───────────────────────────────────────┴────────────┴─────────────────────┘\n",
       "</pre>\n"
      ],
      "text/plain": [
       "<rich.jupyter.JupyterRenderable at 0x7f9f2137c460>"
      ]
     },
     "metadata": {},
     "output_type": "display_data"
    },
    {
     "data": {
      "text/html": [
       "<pre style=\"white-space:pre;overflow-x:auto;line-height:normal;font-family:Menlo,'DejaVu Sans Mono',consolas,'Courier New',monospace\"><span style=\"font-style: italic\">            Extra Continuous Variables            </span>\n",
       "┏━━━━━━━━━━━━━━━━━━━━━━━━━━━━━━━━━━━━━━┳━━━━━━━━━┓\n",
       "┃<span style=\"font-weight: bold\">           Source Location            </span>┃<span style=\"font-weight: bold\">  Range  </span>┃\n",
       "┡━━━━━━━━━━━━━━━━━━━━━━━━━━━━━━━━━━━━━━╇━━━━━━━━━┩\n",
       "│<span style=\"color: #0087ff\"> adata.obs['my_continuous_covariate'] </span>│<span style=\"color: #af00d7\"> 0 -&gt; 99 </span>│\n",
       "└──────────────────────────────────────┴─────────┘\n",
       "</pre>\n"
      ],
      "text/plain": [
       "<rich.jupyter.JupyterRenderable at 0x7f9f21363280>"
      ]
     },
     "metadata": {},
     "output_type": "display_data"
    }
   ],
   "source": [
    "scvi.data.view_anndata_setup(adata)"
   ]
  },
  {
   "cell_type": "markdown",
   "id": "ethical-context",
   "metadata": {},
   "source": [
    "If there are other tensors in the anndata you need to register, you can use the `scvi.data.register_tensor_from_anndata()` command. \n",
    "\n",
    "In the following code we add a new field to our AnnData with the key **extra_values**. Then we register the tensor with `register_tensor_from_anndata()` by passing the adata (`adata=adata`), the datafield of the key we want to register (`adata_attr_name='obs'`), the key we wish to register (`adata_key_name=\"extra_values\"`), and the key to access the data when it is loaded via the dataloader (`registry_key='_extra_values'`)"
   ]
  },
  {
   "cell_type": "code",
   "execution_count": 19,
   "id": "ignored-counter",
   "metadata": {},
   "outputs": [],
   "source": [
    "key = \"extra_values\"\n",
    "adata.obs[key] = np.random.randint(0, 10, 400)\n",
    "\n",
    "scvi.data.register_tensor_from_anndata(\n",
    "    adata=adata,\n",
    "    adata_attr_name=\"obs\",\n",
    "    adata_key_name=key,\n",
    "    registry_key=\"_extra_values\",\n",
    "    is_categorical=True,\n",
    ")"
   ]
  },
  {
   "cell_type": "code",
   "execution_count": 20,
   "id": "constitutional-objective",
   "metadata": {},
   "outputs": [
    {
     "data": {
      "text/plain": [
       "0      2\n",
       "1      5\n",
       "2      7\n",
       "3      2\n",
       "4      6\n",
       "      ..\n",
       "395    5\n",
       "396    7\n",
       "397    0\n",
       "398    4\n",
       "399    4\n",
       "Name: extra_values, Length: 400, dtype: int64"
      ]
     },
     "execution_count": 20,
     "metadata": {},
     "output_type": "execute_result"
    }
   ],
   "source": [
    "adata.obs['extra_values']"
   ]
  },
  {
   "cell_type": "markdown",
   "id": "physical-johnston",
   "metadata": {},
   "source": [
    "## Scvi setup dictionary\n",
    "\n",
    "In this section we enumerate the fields in the scvi setup dictionary. The scvi setup dictionary is accessed via `adata.uns['_scvi']`.\n",
    "\n",
    "The following keys in the scvi setup dictionary will always be there:\n",
    "\n",
    "- `scvi_version` keeps track of the version of scvi-tools used to setup the AnnData Object\n",
    "- `categorical_mappings` keeps track of the mappings for the categorical variables (batch and label)\n",
    "- `data_registry` contains the location of data to load. This is what is used by the DataLoaders to iterate over the AnnData\n",
    "- `summary_stats` contains summary statistics\n",
    "\n",
    "The following keys will be in the scvi setup dictionary if they were provided:\n",
    "\n",
    "- `protein_names` keeps track of the protein names\n",
    "- `extra_categoricals` keeps track of the keys and mappings of the extra categorical covariates\n",
    "- `extra_continuous_keys` keeps track of the keys and mappings of the extra continuous covariates."
   ]
  },
  {
   "cell_type": "code",
   "execution_count": 21,
   "id": "entertaining-degree",
   "metadata": {},
   "outputs": [
    {
     "data": {
      "text/plain": [
       "dict_keys(['scvi_version', 'categorical_mappings', 'protein_names', 'extra_categoricals', 'extra_continuous_keys', 'data_registry', 'summary_stats'])"
      ]
     },
     "execution_count": 21,
     "metadata": {},
     "output_type": "execute_result"
    }
   ],
   "source": [
    "scvi_setup_dict = adata.uns['_scvi']\n",
    "scvi_setup_dict.keys()"
   ]
  },
  {
   "cell_type": "markdown",
   "id": "latin-flexibility",
   "metadata": {},
   "source": [
    "Here we show the contents of `scvi_version`, `summary_stats`, and `protein_names`. We will go over the `data_registry`, `extra_categoricals`, and `extra_continuous_keys` in the next section"
   ]
  },
  {
   "cell_type": "code",
   "execution_count": 22,
   "id": "straight-andorra",
   "metadata": {},
   "outputs": [
    {
     "name": "stdout",
     "output_type": "stream",
     "text": [
      "0.9.0\n"
     ]
    }
   ],
   "source": [
    "# scvi version\n",
    "print(scvi_setup_dict['scvi_version'])"
   ]
  },
  {
   "cell_type": "code",
   "execution_count": 23,
   "id": "disturbed-collect",
   "metadata": {},
   "outputs": [
    {
     "name": "stdout",
     "output_type": "stream",
     "text": [
      "{'n_batch': 2, 'n_cells': 400, 'n_vars': 100, 'n_labels': 3, 'n_proteins': 100, 'n_continuous_covs': 1}\n"
     ]
    }
   ],
   "source": [
    "# summary stats\n",
    "print(scvi_setup_dict['summary_stats'])"
   ]
  },
  {
   "cell_type": "code",
   "execution_count": 24,
   "id": "alert-paper",
   "metadata": {},
   "outputs": [
    {
     "name": "stdout",
     "output_type": "stream",
     "text": [
      "['0' '1' '2' '3' '4' '5' '6' '7' '8' '9' '10' '11' '12' '13' '14' '15'\n",
      " '16' '17' '18' '19' '20' '21' '22' '23' '24' '25' '26' '27' '28' '29'\n",
      " '30' '31' '32' '33' '34' '35' '36' '37' '38' '39' '40' '41' '42' '43'\n",
      " '44' '45' '46' '47' '48' '49' '50' '51' '52' '53' '54' '55' '56' '57'\n",
      " '58' '59' '60' '61' '62' '63' '64' '65' '66' '67' '68' '69' '70' '71'\n",
      " '72' '73' '74' '75' '76' '77' '78' '79' '80' '81' '82' '83' '84' '85'\n",
      " '86' '87' '88' '89' '90' '91' '92' '93' '94' '95' '96' '97' '98' '99']\n"
     ]
    }
   ],
   "source": [
    "# protein names\n",
    "print(scvi_setup_dict['protein_names'])"
   ]
  },
  {
   "cell_type": "markdown",
   "id": "delayed-spirituality",
   "metadata": {},
   "source": [
    "## Data Registry\n",
    "Now lets turn our attention to the `data_registry`, `categorical_mappings`, `extra_categoricals`, and `extra_continuous_keys`.\n",
    "\n",
    "This is used by the DataLoaders to load data during the data loop. Each key of the data_registry is the name of tensor and is used to retreive the data from the dataloader output.\n",
    "\n",
    "- All the data registered via `scvi.data.setup_anndata()` has its keys globally set via `scvi._CONSTANTS`.\n",
    "- All the data registered via `scvi.data.register_tensor_from_anndata()`, the key is provided via the parameter `registry_key`.\n",
    "\n",
    "The value of each key in the data_registry is a dictionary with two keys: `attr_name` and `attr_key`. \n",
    "\n",
    "- `attr_name` is the attribute of `adata` to load data from eg. `obs`, `obsm`, `layers`.\n",
    "- `attr_key` is the key of the attribute to access the data\n",
    "\n",
    "\n",
    "For example, based off the following data_registry, batch information is loaded from `adata.obs['_scvi_batch']` and will be accessible via `_CONSTANTS.BATCH_KEY`"
   ]
  },
  {
   "cell_type": "code",
   "execution_count": 25,
   "id": "suspected-bennett",
   "metadata": {},
   "outputs": [
    {
     "data": {
      "text/plain": [
       "{'X': {'attr_name': 'layers', 'attr_key': 'raw_counts'},\n",
       " 'batch_indices': {'attr_name': 'obs', 'attr_key': '_scvi_batch'},\n",
       " 'local_l_mean': {'attr_name': 'obs', 'attr_key': '_scvi_local_l_mean'},\n",
       " 'local_l_var': {'attr_name': 'obs', 'attr_key': '_scvi_local_l_var'},\n",
       " 'labels': {'attr_name': 'obs', 'attr_key': '_scvi_labels'},\n",
       " 'protein_expression': {'attr_name': 'obsm', 'attr_key': 'protein_expression'},\n",
       " 'cat_covs': {'attr_name': 'obsm', 'attr_key': '_scvi_extra_categoricals'},\n",
       " 'cont_covs': {'attr_name': 'obsm', 'attr_key': '_scvi_extra_continuous'},\n",
       " '_extra_values': {'attr_name': 'obs', 'attr_key': 'extra_values_scvi'}}"
      ]
     },
     "execution_count": 25,
     "metadata": {},
     "output_type": "execute_result"
    }
   ],
   "source": [
    "data_registry = scvi_setup_dict['data_registry']\n",
    "data_registry"
   ]
  },
  {
   "cell_type": "code",
   "execution_count": 26,
   "id": "alternative-assistant",
   "metadata": {},
   "outputs": [
    {
     "name": "stdout",
     "output_type": "stream",
     "text": [
      "X\n",
      "batch_indices\n",
      "local_l_mean\n",
      "local_l_var\n",
      "labels\n",
      "protein_expression\n",
      "cat_covs\n",
      "cont_covs\n"
     ]
    }
   ],
   "source": [
    "print(_CONSTANTS.X_KEY)                 # key for X values\n",
    "print(_CONSTANTS.BATCH_KEY)             # key for batch info\n",
    "print(_CONSTANTS.LOCAL_L_MEAN_KEY)      # key for mean of batch specific log library size\n",
    "print(_CONSTANTS.LOCAL_L_VAR_KEY)       # key for variance of batch specific log library size\n",
    "print(_CONSTANTS.LABELS_KEY)            # key for label data\n",
    "print(_CONSTANTS.PROTEIN_EXP_KEY)       # key for protein data\n",
    "print(_CONSTANTS.CAT_COVS_KEY)          # key for categorical covariate data\n",
    "print(_CONSTANTS.CONT_COVS_KEY)         # key for continuous covariate data"
   ]
  },
  {
   "cell_type": "code",
   "execution_count": 27,
   "id": "rapid-monday",
   "metadata": {},
   "outputs": [
    {
     "name": "stdout",
     "output_type": "stream",
     "text": [
      "batch_indices\n"
     ]
    },
    {
     "data": {
      "text/plain": [
       "{'attr_name': 'obs', 'attr_key': '_scvi_batch'}"
      ]
     },
     "execution_count": 27,
     "metadata": {},
     "output_type": "execute_result"
    }
   ],
   "source": [
    "from scvi import _CONSTANTS\n",
    "\n",
    "print(_CONSTANTS.BATCH_KEY)\n",
    "data_registry[_CONSTANTS.BATCH_KEY]"
   ]
  },
  {
   "cell_type": "markdown",
   "id": "immediate-wonder",
   "metadata": {},
   "source": [
    "During the data registration process, we also keep track of the location of the original data as well as the categorical to integer mappings.\n",
    "\n",
    "In the categorical_mappings dict, the keys are the `attr_key` for each categorical key from the `data_registry` (except for extra continuous and categorical covariates). The values is then another dictionary with two keys: \n",
    "\n",
    "- `original_key` is the original key passed in by the user to load the data\n",
    "- `mapping` is the categorical to integer mapping of the data. The index of the category is its corresponding integer representation."
   ]
  },
  {
   "cell_type": "code",
   "execution_count": 28,
   "id": "executed-vampire",
   "metadata": {},
   "outputs": [
    {
     "data": {
      "text/plain": [
       "{'_scvi_batch': {'original_key': 'batch',\n",
       "  'mapping': array(['batch_0', 'batch_1'], dtype=object)},\n",
       " '_scvi_labels': {'original_key': 'labels',\n",
       "  'mapping': array(['label_0', 'label_1', 'label_2'], dtype=object)},\n",
       " 'extra_values_scvi': {'original_key': 'extra_values',\n",
       "  'mapping': array([0, 1, 2, 3, 4, 5, 6, 7, 8, 9])}}"
      ]
     },
     "execution_count": 28,
     "metadata": {},
     "output_type": "execute_result"
    }
   ],
   "source": [
    "scvi_setup_dict['categorical_mappings']"
   ]
  },
  {
   "cell_type": "markdown",
   "id": "liked-newton",
   "metadata": {},
   "source": [
    "If the anndata was setup with `extra_categorical_covariates`, there will also be an `extra_categoricals` dict in the `scvi_setup_dict`.\n",
    "\n",
    "There are three keys:\n",
    "\n",
    "- `mappings` whose value is a dictionary where the key is the original obs key and the value is the categorical mapping\n",
    "- `keys` these are the keys of the pandas DataFrame in `adata.obs['_scvi_extra_categoricals']`\n",
    "- `n_cats_per_key` contains the number of categories per key"
   ]
  },
  {
   "cell_type": "code",
   "execution_count": 29,
   "id": "amber-accuracy",
   "metadata": {},
   "outputs": [
    {
     "data": {
      "text/plain": [
       "{'mappings': {'my_categorical_covariate': array(['A', 'B'], dtype=object)},\n",
       " 'keys': ['my_categorical_covariate'],\n",
       " 'n_cats_per_key': [2]}"
      ]
     },
     "execution_count": 29,
     "metadata": {},
     "output_type": "execute_result"
    }
   ],
   "source": [
    "scvi_setup_dict['extra_categoricals']"
   ]
  },
  {
   "cell_type": "code",
   "execution_count": 30,
   "id": "noticed-documentary",
   "metadata": {},
   "outputs": [
    {
     "data": {
      "text/html": [
       "<div>\n",
       "<style scoped>\n",
       "    .dataframe tbody tr th:only-of-type {\n",
       "        vertical-align: middle;\n",
       "    }\n",
       "\n",
       "    .dataframe tbody tr th {\n",
       "        vertical-align: top;\n",
       "    }\n",
       "\n",
       "    .dataframe thead th {\n",
       "        text-align: right;\n",
       "    }\n",
       "</style>\n",
       "<table border=\"1\" class=\"dataframe\">\n",
       "  <thead>\n",
       "    <tr style=\"text-align: right;\">\n",
       "      <th></th>\n",
       "      <th>my_categorical_covariate</th>\n",
       "    </tr>\n",
       "  </thead>\n",
       "  <tbody>\n",
       "    <tr>\n",
       "      <th>0</th>\n",
       "      <td>0</td>\n",
       "    </tr>\n",
       "    <tr>\n",
       "      <th>1</th>\n",
       "      <td>0</td>\n",
       "    </tr>\n",
       "    <tr>\n",
       "      <th>2</th>\n",
       "      <td>0</td>\n",
       "    </tr>\n",
       "    <tr>\n",
       "      <th>3</th>\n",
       "      <td>0</td>\n",
       "    </tr>\n",
       "    <tr>\n",
       "      <th>4</th>\n",
       "      <td>0</td>\n",
       "    </tr>\n",
       "    <tr>\n",
       "      <th>...</th>\n",
       "      <td>...</td>\n",
       "    </tr>\n",
       "    <tr>\n",
       "      <th>395</th>\n",
       "      <td>1</td>\n",
       "    </tr>\n",
       "    <tr>\n",
       "      <th>396</th>\n",
       "      <td>1</td>\n",
       "    </tr>\n",
       "    <tr>\n",
       "      <th>397</th>\n",
       "      <td>1</td>\n",
       "    </tr>\n",
       "    <tr>\n",
       "      <th>398</th>\n",
       "      <td>1</td>\n",
       "    </tr>\n",
       "    <tr>\n",
       "      <th>399</th>\n",
       "      <td>1</td>\n",
       "    </tr>\n",
       "  </tbody>\n",
       "</table>\n",
       "<p>400 rows × 1 columns</p>\n",
       "</div>"
      ],
      "text/plain": [
       "     my_categorical_covariate\n",
       "0                           0\n",
       "1                           0\n",
       "2                           0\n",
       "3                           0\n",
       "4                           0\n",
       "..                        ...\n",
       "395                         1\n",
       "396                         1\n",
       "397                         1\n",
       "398                         1\n",
       "399                         1\n",
       "\n",
       "[400 rows x 1 columns]"
      ]
     },
     "execution_count": 30,
     "metadata": {},
     "output_type": "execute_result"
    }
   ],
   "source": [
    "adata.obsm['_scvi_extra_categoricals']"
   ]
  },
  {
   "cell_type": "markdown",
   "id": "local-ghana",
   "metadata": {},
   "source": [
    "If the anndata was setup with `extra_continuous_covariates`, `extra_continuous_keys` will be a key  in the `scvi_setup_dict`.\n",
    "\n",
    "This is a list of the keys in `adata.obs['_scvi_extra_continuous']` to load extra continuous covariates from."
   ]
  },
  {
   "cell_type": "code",
   "execution_count": 31,
   "id": "supreme-finnish",
   "metadata": {},
   "outputs": [
    {
     "data": {
      "text/plain": [
       "array(['my_continuous_covariate'], dtype=object)"
      ]
     },
     "execution_count": 31,
     "metadata": {},
     "output_type": "execute_result"
    }
   ],
   "source": [
    "scvi_setup_dict['extra_continuous_keys']"
   ]
  },
  {
   "cell_type": "code",
   "execution_count": 32,
   "id": "sacred-legend",
   "metadata": {},
   "outputs": [
    {
     "data": {
      "text/html": [
       "<div>\n",
       "<style scoped>\n",
       "    .dataframe tbody tr th:only-of-type {\n",
       "        vertical-align: middle;\n",
       "    }\n",
       "\n",
       "    .dataframe tbody tr th {\n",
       "        vertical-align: top;\n",
       "    }\n",
       "\n",
       "    .dataframe thead th {\n",
       "        text-align: right;\n",
       "    }\n",
       "</style>\n",
       "<table border=\"1\" class=\"dataframe\">\n",
       "  <thead>\n",
       "    <tr style=\"text-align: right;\">\n",
       "      <th></th>\n",
       "      <th>my_continuous_covariate</th>\n",
       "    </tr>\n",
       "  </thead>\n",
       "  <tbody>\n",
       "    <tr>\n",
       "      <th>0</th>\n",
       "      <td>6</td>\n",
       "    </tr>\n",
       "    <tr>\n",
       "      <th>1</th>\n",
       "      <td>9</td>\n",
       "    </tr>\n",
       "    <tr>\n",
       "      <th>2</th>\n",
       "      <td>46</td>\n",
       "    </tr>\n",
       "    <tr>\n",
       "      <th>3</th>\n",
       "      <td>8</td>\n",
       "    </tr>\n",
       "    <tr>\n",
       "      <th>4</th>\n",
       "      <td>43</td>\n",
       "    </tr>\n",
       "    <tr>\n",
       "      <th>...</th>\n",
       "      <td>...</td>\n",
       "    </tr>\n",
       "    <tr>\n",
       "      <th>395</th>\n",
       "      <td>49</td>\n",
       "    </tr>\n",
       "    <tr>\n",
       "      <th>396</th>\n",
       "      <td>12</td>\n",
       "    </tr>\n",
       "    <tr>\n",
       "      <th>397</th>\n",
       "      <td>88</td>\n",
       "    </tr>\n",
       "    <tr>\n",
       "      <th>398</th>\n",
       "      <td>8</td>\n",
       "    </tr>\n",
       "    <tr>\n",
       "      <th>399</th>\n",
       "      <td>29</td>\n",
       "    </tr>\n",
       "  </tbody>\n",
       "</table>\n",
       "<p>400 rows × 1 columns</p>\n",
       "</div>"
      ],
      "text/plain": [
       "     my_continuous_covariate\n",
       "0                          6\n",
       "1                          9\n",
       "2                         46\n",
       "3                          8\n",
       "4                         43\n",
       "..                       ...\n",
       "395                       49\n",
       "396                       12\n",
       "397                       88\n",
       "398                        8\n",
       "399                       29\n",
       "\n",
       "[400 rows x 1 columns]"
      ]
     },
     "execution_count": 32,
     "metadata": {},
     "output_type": "execute_result"
    }
   ],
   "source": [
    "adata.obsm['_scvi_extra_continuous']"
   ]
  },
  {
   "cell_type": "markdown",
   "id": "timely-practitioner",
   "metadata": {},
   "source": [
    "## DataLoaders\n",
    "\n",
    "`AnnDataLoader` is the base dataloader for scvi-tools. In this section we show how the data registered is loaded by `AnnDataLoader`.\n",
    "\n",
    "Parameters of `AnnDataLoader`:\n",
    "\n",
    "- `adata`: registered AnnData object to load data from\n",
    "- `shuffle`: if True will shuffle the data beforehand\n",
    "- `indices`: can provide a subset of indices to load from (Useful when doing train/test splits)\n",
    "- `data_and_attributes`: a dictionary where the key corresponds to its key in the `data_registry` and the value is the numpy data type. By default, all data is passed to the model as `np.float32`.\n",
    "- `data_loader_kwargs`: additional arguments from `torch.utils.data.DataLoader`\n",
    "\n",
    "First, we construct an `AnnDataLoader` and get the first batch. Then we will enumerate all the values in the batch. The variable **data_batch** contains the first batch of data. It is a dictionary whose values are the tensors registered in the previous section via `setup_anndata()` and `register_tensor_from_anndata()`. \n"
   ]
  },
  {
   "cell_type": "code",
   "execution_count": 33,
   "id": "incident-brighton",
   "metadata": {},
   "outputs": [],
   "source": [
    "from scvi.dataloaders._ann_dataloader import AnnDataLoader\n",
    "\n",
    "# initialize an AnnDataLoader which will iterate over our anndata\n",
    "adl = AnnDataLoader(adata, shuffle=False, batch_size = 10)\n",
    "\n",
    "# get the first batch of data\n",
    "data_batch = next(tensors for tensors in adl)"
   ]
  },
  {
   "cell_type": "markdown",
   "id": "governmental-emergency",
   "metadata": {},
   "source": [
    "For tensors setup with `setup_anndata()` the keys are from `scvi._CONSTANTS`. For tensors setup with `register_tensor_from_anndata()`, the keys are the values passed to `registry_key`. Notice that the keys in **data_batch** are the same as the keys in the `data_registry`. See previous section for more detailed explanation"
   ]
  },
  {
   "cell_type": "code",
   "execution_count": 34,
   "id": "incident-headline",
   "metadata": {},
   "outputs": [
    {
     "name": "stdout",
     "output_type": "stream",
     "text": [
      "data_batch_keys:\n",
      "dict_keys(['X', 'batch_indices', 'local_l_mean', 'local_l_var', 'labels', 'protein_expression', 'cat_covs', 'cont_covs', '_extra_values'])\n"
     ]
    }
   ],
   "source": [
    "print('data_batch_keys:')\n",
    "print(data_batch.keys())"
   ]
  },
  {
   "cell_type": "code",
   "execution_count": 35,
   "id": "nonprofit-grass",
   "metadata": {},
   "outputs": [
    {
     "data": {
      "text/plain": [
       "{'X': {'attr_name': 'layers', 'attr_key': 'raw_counts'},\n",
       " 'batch_indices': {'attr_name': 'obs', 'attr_key': '_scvi_batch'},\n",
       " 'local_l_mean': {'attr_name': 'obs', 'attr_key': '_scvi_local_l_mean'},\n",
       " 'local_l_var': {'attr_name': 'obs', 'attr_key': '_scvi_local_l_var'},\n",
       " 'labels': {'attr_name': 'obs', 'attr_key': '_scvi_labels'},\n",
       " 'protein_expression': {'attr_name': 'obsm', 'attr_key': 'protein_expression'},\n",
       " 'cat_covs': {'attr_name': 'obsm', 'attr_key': '_scvi_extra_categoricals'},\n",
       " 'cont_covs': {'attr_name': 'obsm', 'attr_key': '_scvi_extra_continuous'},\n",
       " '_extra_values': {'attr_name': 'obs', 'attr_key': 'extra_values_scvi'}}"
      ]
     },
     "execution_count": 35,
     "metadata": {},
     "output_type": "execute_result"
    }
   ],
   "source": [
    "adata.uns['_scvi']['data_registry']"
   ]
  },
  {
   "cell_type": "markdown",
   "id": "metallic-equivalent",
   "metadata": {},
   "source": [
    "If we look at the labels for the first batch from the data loader, it corresponds to the labels of the first 10 cells of our AnnData. "
   ]
  },
  {
   "cell_type": "code",
   "execution_count": 36,
   "id": "adolescent-moment",
   "metadata": {},
   "outputs": [
    {
     "data": {
      "text/plain": [
       "0    label_0\n",
       "1    label_0\n",
       "2    label_1\n",
       "3    label_1\n",
       "4    label_2\n",
       "5    label_1\n",
       "6    label_1\n",
       "7    label_2\n",
       "8    label_2\n",
       "9    label_1\n",
       "Name: labels, dtype: category\n",
       "Categories (3, object): ['label_0', 'label_1', 'label_2']"
      ]
     },
     "execution_count": 36,
     "metadata": {},
     "output_type": "execute_result"
    }
   ],
   "source": [
    "adata.obs['labels'][:10]"
   ]
  },
  {
   "cell_type": "code",
   "execution_count": 37,
   "id": "facial-price",
   "metadata": {},
   "outputs": [
    {
     "data": {
      "text/plain": [
       "tensor([[0.],\n",
       "        [0.],\n",
       "        [1.],\n",
       "        [1.],\n",
       "        [2.],\n",
       "        [1.],\n",
       "        [1.],\n",
       "        [2.],\n",
       "        [2.],\n",
       "        [1.]])"
      ]
     },
     "execution_count": 37,
     "metadata": {},
     "output_type": "execute_result"
    }
   ],
   "source": [
    "# setup_anndata automatically encoded the categorical labels as integers\n",
    "data_batch[_CONSTANTS.LABELS_KEY] "
   ]
  },
  {
   "cell_type": "code",
   "execution_count": 38,
   "id": "verified-custom",
   "metadata": {},
   "outputs": [
    {
     "name": "stdout",
     "output_type": "stream",
     "text": [
      "torch.Size([10, 100])\n",
      "torch.Size([10, 1])\n"
     ]
    }
   ],
   "source": [
    "print(data_batch[_CONSTANTS.X_KEY].shape) #shape is batch_size x n_genes\n",
    "print(data_batch[_CONSTANTS.BATCH_KEY].shape) #shape is batch_size x 1"
   ]
  },
  {
   "cell_type": "markdown",
   "id": "friendly-credit",
   "metadata": {},
   "source": [
    "For the tensor we registered via `register_tensor_from_anndata()`, the key to access the data is the value passed to the `registry_key`argument, which in our case was `_extra_values`."
   ]
  },
  {
   "cell_type": "code",
   "execution_count": 39,
   "id": "neutral-newport",
   "metadata": {},
   "outputs": [
    {
     "data": {
      "text/plain": [
       "tensor([[2.],\n",
       "        [5.],\n",
       "        [7.],\n",
       "        [2.],\n",
       "        [6.],\n",
       "        [2.],\n",
       "        [2.],\n",
       "        [3.],\n",
       "        [1.],\n",
       "        [5.]])"
      ]
     },
     "execution_count": 39,
     "metadata": {},
     "output_type": "execute_result"
    }
   ],
   "source": [
    "data_batch['_extra_values']"
   ]
  },
  {
   "cell_type": "code",
   "execution_count": 40,
   "id": "instructional-mileage",
   "metadata": {},
   "outputs": [
    {
     "data": {
      "text/plain": [
       "0    2\n",
       "1    5\n",
       "2    7\n",
       "3    2\n",
       "4    6\n",
       "5    2\n",
       "6    2\n",
       "7    3\n",
       "8    1\n",
       "9    5\n",
       "Name: extra_values, dtype: int64"
      ]
     },
     "execution_count": 40,
     "metadata": {},
     "output_type": "execute_result"
    }
   ],
   "source": [
    "adata.obs[:10]['extra_values']"
   ]
  },
  {
   "cell_type": "markdown",
   "id": "geological-collector",
   "metadata": {},
   "source": [
    "By default, all the data loaded in scvi-tools is `np.float32`. If you wish to load as a different datatype, you can pass in a dictionary where the key corresponds to a key in the data registry and the value is the datatype.\n",
    "\n",
    "In the following snippet, we load some continuous data as `np.float64` and integer data as `np.long32`."
   ]
  },
  {
   "cell_type": "code",
   "execution_count": 41,
   "id": "architectural-embassy",
   "metadata": {},
   "outputs": [
    {
     "name": "stdout",
     "output_type": "stream",
     "text": [
      "torch.float32\n",
      "torch.float32\n"
     ]
    }
   ],
   "source": [
    "adl = AnnDataLoader(adata, shuffle=False, batch_size = 10)\n",
    "data_batch = next(tensors for tensors in adl)\n",
    "\n",
    "# by default data has the dtype np.float32\n",
    "print(data_batch[_CONSTANTS.X_KEY].dtype) \n",
    "print(data_batch[_CONSTANTS.BATCH_KEY].dtype) "
   ]
  },
  {
   "cell_type": "code",
   "execution_count": 42,
   "id": "hidden-sudan",
   "metadata": {},
   "outputs": [
    {
     "data": {
      "text/plain": [
       "dict_keys(['X', 'batch_indices', 'local_l_mean', 'local_l_var', 'labels', 'protein_expression', 'cat_covs', 'cont_covs', '_extra_values'])"
      ]
     },
     "execution_count": 42,
     "metadata": {},
     "output_type": "execute_result"
    }
   ],
   "source": [
    "data_batch.keys()"
   ]
  },
  {
   "cell_type": "markdown",
   "id": "conventional-county",
   "metadata": {},
   "source": [
    "To specify the datatype of each key, we can use the `data_and_attributes` parameter of AnnDataLoader. Here we make make `X` an `np.long` and our `cat_covs` an `np.float64`, but keep everything else as `np.float32`."
   ]
  },
  {
   "cell_type": "code",
   "execution_count": 43,
   "id": "interested-craft",
   "metadata": {},
   "outputs": [
    {
     "name": "stdout",
     "output_type": "stream",
     "text": [
      "Data Registry keys: dict_keys(['X', 'batch_indices', 'local_l_mean', 'local_l_var', 'labels', 'protein_expression', 'cat_covs', 'cont_covs', '_extra_values'])\n"
     ]
    }
   ],
   "source": [
    "#the keys of data_and_attributes should correspond to keys in the data registry\n",
    "data_registry_keys = adata.uns['_scvi']['data_registry'].keys()\n",
    "print(\"Data Registry keys:\",data_registry_keys)"
   ]
  },
  {
   "cell_type": "code",
   "execution_count": 44,
   "id": "powered-maldives",
   "metadata": {},
   "outputs": [
    {
     "name": "stdout",
     "output_type": "stream",
     "text": [
      "{'X': <class 'int'>, 'batch_indices': <class 'numpy.float32'>, 'local_l_mean': <class 'numpy.float32'>, 'local_l_var': <class 'numpy.float32'>, 'labels': <class 'numpy.float32'>, 'protein_expression': <class 'numpy.float32'>, 'cat_covs': <class 'numpy.float32'>, 'cont_covs': <class 'numpy.float64'>, '_extra_values': <class 'numpy.float32'>}\n"
     ]
    }
   ],
   "source": [
    "data_and_attributes = {}\n",
    "for key in data_registry_keys:\n",
    "    if key == _CONSTANTS.X_KEY:\n",
    "        data_and_attributes[key] = np.long\n",
    "    elif key == _CONSTANTS.CONT_COVS_KEY:\n",
    "        data_and_attributes[key] = np.float64\n",
    "    else:\n",
    "        data_and_attributes[key] = np.float32\n",
    "print(data_and_attributes)"
   ]
  },
  {
   "cell_type": "code",
   "execution_count": 45,
   "id": "moved-score",
   "metadata": {},
   "outputs": [
    {
     "name": "stdout",
     "output_type": "stream",
     "text": [
      "torch.int64\n",
      "torch.float64\n"
     ]
    }
   ],
   "source": [
    "adl = AnnDataLoader(adata, shuffle=False, batch_size = 10, data_and_attributes=data_and_attributes)\n",
    "data_batch = next(tensors for tensors in adl)\n",
    "\n",
    "# by default data has the dtype np.float32\n",
    "print(data_batch[_CONSTANTS.X_KEY].dtype) \n",
    "print(data_batch[_CONSTANTS.CONT_COVS_KEY].dtype) "
   ]
  },
  {
   "cell_type": "markdown",
   "id": "thermal-signal",
   "metadata": {},
   "source": [
    "Finally, if the `data_and_attributes` parameter is used, it will only load the keys of the passed in dictionary. For example, if the only key in the dictionary passed in to `data_and_attributes` is X, the data loader will only load X."
   ]
  },
  {
   "cell_type": "code",
   "execution_count": 46,
   "id": "relevant-tournament",
   "metadata": {},
   "outputs": [
    {
     "name": "stdout",
     "output_type": "stream",
     "text": [
      "dict_keys(['X'])\n"
     ]
    }
   ],
   "source": [
    "data_and_attributes = {_CONSTANTS.X_KEY: np.float}\n",
    "adl = AnnDataLoader(\n",
    "    adata, shuffle=False, batch_size=10, data_and_attributes=data_and_attributes\n",
    ")\n",
    "data_batch = next(tensors for tensors in adl)\n",
    "\n",
    "print(data_batch.keys())"
   ]
  }
 ],
 "metadata": {
  "kernelspec": {
   "display_name": "Python 3",
   "language": "python",
   "name": "python3"
  },
  "language_info": {
   "codemirror_mode": {
    "name": "ipython",
    "version": 3
   },
   "file_extension": ".py",
   "mimetype": "text/x-python",
   "name": "python",
   "nbconvert_exporter": "python",
   "pygments_lexer": "ipython3",
   "version": "3.8.3"
  }
 },
 "nbformat": 4,
 "nbformat_minor": 5
}
